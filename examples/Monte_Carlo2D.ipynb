{
 "cells": [
  {
   "cell_type": "markdown",
   "id": "b89d54a4",
   "metadata": {},
   "source": [
    "# Monte Carlo Double Integration in Python"
   ]
  },
  {
   "cell_type": "markdown",
   "id": "5f45e331",
   "metadata": {},
   "source": [
    "Concept:\n",
    "\n",
    "If $ x_i \\in \\left[a,b\\right] $, $ y_i \\in \\left[c,d\\right] $ and so on; where $i = 0,1,......N$. Then using Monte carlo method, the integration of the function can be written as:\n",
    "\\begin{equation*}\n",
    "\\int_a^b \\int_c^d f(x,y) dy dx = \\frac{(b-a)(d-c)}{N} \\sum_{i = 0}^N f(x_i,y_i)\n",
    "\\end{equation*}\n",
    "\n"
   ]
  },
  {
   "cell_type": "markdown",
   "id": "3318b1be",
   "metadata": {},
   "source": [
    "\\begin{example}\n",
    "Find the integration of the function $f(x,y) = 9x^3y^2$ in the given limit.\n",
    "\\begin{equation*}\n",
    "\\int_1^3 \\int_2^4 9x^3y^2 dy dx \n",
    "\\end{equation*}\n",
    "\\end{example}\n"
   ]
  },
  {
   "cell_type": "markdown",
   "id": "42df15fe",
   "metadata": {},
   "source": [
    "Steps/Algorithms:\n",
    "\\begin{enumerate}\n",
    "\\item Define the function.\n",
    "\\item Define the lower, upper limit and number of random numbers you want to generate.\n",
    "\\item Generate required random numbers.\n",
    "\\item Find out the summation.\n",
    "\\item Use formula to to integrate given above.\n",
    "\\end{enumerate}\n"
   ]
  },
  {
   "cell_type": "markdown",
   "id": "b097c2e1",
   "metadata": {},
   "source": [
    "Step 0: Importing the required python packages:"
   ]
  },
  {
   "cell_type": "code",
   "execution_count": 15,
   "id": "93b7785d",
   "metadata": {},
   "outputs": [],
   "source": [
    "import numpy as np"
   ]
  },
  {
   "cell_type": "markdown",
   "id": "27abddad",
   "metadata": {},
   "source": [
    "Step 1: Define the function."
   ]
  },
  {
   "cell_type": "code",
   "execution_count": 16,
   "id": "13cc5ca4",
   "metadata": {},
   "outputs": [],
   "source": [
    "def f(x,y):\n",
    "    return 9*x**3*y**2"
   ]
  },
  {
   "cell_type": "markdown",
   "id": "e36c85e7",
   "metadata": {},
   "source": [
    "Step 2: Defining the limits of integration and N"
   ]
  },
  {
   "cell_type": "code",
   "execution_count": 17,
   "id": "151018bc",
   "metadata": {},
   "outputs": [
    {
     "name": "stdout",
     "output_type": "stream",
     "text": [
      "Please input the lower limit for x: 1\n",
      "Please input the upper limit for x: 3\n",
      "Please input the lower limit for y: 2\n",
      "Please input the upper limit for y: 4\n",
      "Please input the Total number of points you want to divide into: 10000000\n"
     ]
    }
   ],
   "source": [
    "a = int(input(\"Please input the lower limit for x: \"))\n",
    "b = int(input(\"Please input the upper limit for x: \"))\n",
    "c = int(input(\"Please input the lower limit for y: \"))\n",
    "d = int(input(\"Please input the upper limit for y: \"))\n",
    "N = int(input(\"Please input the Total number of points you want to divide into: \"))"
   ]
  },
  {
   "cell_type": "markdown",
   "id": "b695840b",
   "metadata": {},
   "source": [
    "Step 3: Generate required random numbers."
   ]
  },
  {
   "cell_type": "code",
   "execution_count": 18,
   "id": "b1c1a631",
   "metadata": {},
   "outputs": [],
   "source": [
    "x = []\n",
    "y = []\n",
    "for i in range(N):\n",
    "    x.append(np.random.uniform(a,b))\n",
    "    y.append(np.random.uniform(c,d))"
   ]
  },
  {
   "cell_type": "markdown",
   "id": "c1e02065",
   "metadata": {},
   "source": [
    "Step 4: Finding out the summation."
   ]
  },
  {
   "cell_type": "code",
   "execution_count": 19,
   "id": "78909647",
   "metadata": {},
   "outputs": [],
   "source": [
    "summ = 0\n",
    "for i in range(N):\n",
    "        summ = summ + f(x[i],y[i])\n"
   ]
  },
  {
   "cell_type": "markdown",
   "id": "1f8f0dd6",
   "metadata": {},
   "source": [
    "Step 5: Finding the integration."
   ]
  },
  {
   "cell_type": "code",
   "execution_count": 20,
   "id": "8cd56379",
   "metadata": {},
   "outputs": [
    {
     "name": "stdout",
     "output_type": "stream",
     "text": [
      "The integrated value using Monte Carlo method in python is:  3359.0162963892826\n",
      "The percentage error in the calculation is:  0.029276893176112633 %\n"
     ]
    }
   ],
   "source": [
    "integrated_value = (b-a)*(d-c)/N * summ\n",
    "print(\"The integrated value using Monte Carlo method in python is: \",integrated_value)\n",
    "error = abs(3360-integrated_value)/3360*100\n",
    "print(\"The percentage error in the calculation is: \",error, '%')"
   ]
  },
  {
   "cell_type": "code",
   "execution_count": null,
   "id": "0875dd5f",
   "metadata": {},
   "outputs": [],
   "source": []
  }
 ],
 "metadata": {
  "kernelspec": {
   "display_name": "Python 3 (ipykernel)",
   "language": "python",
   "name": "python3"
  },
  "language_info": {
   "codemirror_mode": {
    "name": "ipython",
    "version": 3
   },
   "file_extension": ".py",
   "mimetype": "text/x-python",
   "name": "python",
   "nbconvert_exporter": "python",
   "pygments_lexer": "ipython3",
   "version": "3.9.7"
  },
  "latex_envs": {
   "LaTeX_envs_menu_present": true,
   "autoclose": false,
   "autocomplete": true,
   "bibliofile": "biblio.bib",
   "cite_by": "apalike",
   "current_citInitial": 1,
   "eqLabelWithNumbers": true,
   "eqNumInitial": 1,
   "hotkeys": {
    "equation": "Ctrl-E",
    "itemize": "Ctrl-I"
   },
   "labels_anchors": false,
   "latex_user_defs": false,
   "report_style_numbering": false,
   "user_envs_cfg": false
  },
  "toc": {
   "base_numbering": 1,
   "nav_menu": {},
   "number_sections": true,
   "sideBar": true,
   "skip_h1_title": false,
   "title_cell": "Table of Contents",
   "title_sidebar": "Contents",
   "toc_cell": false,
   "toc_position": {},
   "toc_section_display": true,
   "toc_window_display": false
  }
 },
 "nbformat": 4,
 "nbformat_minor": 5
}
