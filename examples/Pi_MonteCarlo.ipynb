{
 "cells": [
  {
   "cell_type": "markdown",
   "id": "e24e147a",
   "metadata": {
    "ExecuteTime": {
     "end_time": "2024-05-29T07:10:14.925679Z",
     "start_time": "2024-05-29T07:10:14.897450Z"
    }
   },
   "source": [
    "\\section{Estimating Value of $\\pi$ using Monte Carlo Simulation}\n",
    "Monte Carlo simulations are a class of computational algorithms that rely on repeated random sampling to obtain numerical results. Here, as a classic application of the Monte Carlo method, we try to estimate the value of $\\pi$.\n",
    "\n",
    "It involves simulating random points in a unit square and determining how many fall within the circle inscribed within that square.\n",
    "\n",
    "\\subsection{Concept}\n",
    "Consider a unit circle inscribed within a square of side length 2. \n",
    "\n",
    ":>  $r = 1$\n",
    "\n",
    "The area of the circle = $\\pi r^2$ = $\\pi$\n",
    "\n",
    "Area of the square = $(2r)^2 = 4$\n",
    "\n",
    "$\\frac{A_C}{A_S}$ = $\\frac{N_C}{N_S}$\n",
    "\n",
    ":>\n",
    "$\\frac{\\pi}{4} = \\frac{M}{N}$\n",
    "\n",
    "$\\pi = 4 \\times \\frac{M}{N}$\n",
    "<img src=\"Pi_MonteCarlo.jpeg\" />\n",
    "\\subsection{Algorithm}\n",
    "The steps for the Monte Carlo method to estimate $\\pi$ are as follows:\n",
    "\\begin{enumerate}\n",
    "    \\item Generate $N$ random points $(x, y)$ where $x$ and $y$ are uniformly distributed between -1 and 1.\n",
    "    \\item For each point, calculate the distance from the origin $(0, 0)$ using the equation $r = \\sqrt{x^2 + y^2}$.\n",
    "    \\item Count the number of points $M$ that fall inside the circle, i.e., for which $r \\leq 1$.\n",
    "    \\item The ratio $\\frac{M}{N}$ is an estimate of the ratio of the areas, which is $\\frac{\\pi}{4}$.\n",
    "    \\item Multiply this ratio by 4 to estimate $\\pi$: $\\pi \\approx 4 \\times \\frac{M}{N}$.\n",
    "\\end{enumerate}"
   ]
  },
  {
   "cell_type": "markdown",
   "id": "b097c2e1",
   "metadata": {},
   "source": [
    "Step 0: Importing the required python packages:"
   ]
  },
  {
   "cell_type": "code",
   "execution_count": 1,
   "id": "81741081",
   "metadata": {
    "ExecuteTime": {
     "end_time": "2024-05-29T08:54:17.121601Z",
     "start_time": "2024-05-29T08:54:17.118217Z"
    }
   },
   "outputs": [],
   "source": [
    "import numpy as np"
   ]
  },
  {
   "cell_type": "markdown",
   "id": "e36c85e7",
   "metadata": {},
   "source": [
    "Step 1: Generate $N$ random points $(x, y)$ where $x$ and $y$ are uniformly distributed between -1 and 1."
   ]
  },
  {
   "cell_type": "code",
   "execution_count": 12,
   "id": "5edf2c33",
   "metadata": {
    "ExecuteTime": {
     "end_time": "2024-05-29T09:07:40.465517Z",
     "start_time": "2024-05-29T09:07:36.812979Z"
    }
   },
   "outputs": [],
   "source": [
    "N = 1000000 # total number of points generated\n",
    "\n",
    "#initialize the x and y variables\n",
    "x = []\n",
    "y = []\n",
    "\n",
    "for i in range(N): #For loop to do the process for N times\n",
    "    x.append(np.random.uniform(-1, 1)) #Generate random numbers along x direction and store it in x\n",
    "    y.append(np.random.uniform(-1,1)) #Generate random number along y direction and store it in y"
   ]
  },
  {
   "cell_type": "markdown",
   "id": "b695840b",
   "metadata": {},
   "source": [
    "Step 3/4/5: Find the value of Pi."
   ]
  },
  {
   "cell_type": "code",
   "execution_count": 13,
   "id": "f802d911",
   "metadata": {
    "ExecuteTime": {
     "end_time": "2024-05-29T09:07:44.894551Z",
     "start_time": "2024-05-29T09:07:43.794671Z"
    }
   },
   "outputs": [
    {
     "name": "stdout",
     "output_type": "stream",
     "text": [
      "Value of Pi =  3.144908\n"
     ]
    }
   ],
   "source": [
    "# Initialize the M value to 0 as the starting point of count\n",
    "M = 0\n",
    "\n",
    "for i in range(len(x)):\n",
    "    r = np.sqrt(x[i]**2 + y[i]**2) #Distance formula from the origin\n",
    "    if r<=1:\n",
    "        M +=1 # Add 1 to the counter when distance is less than radius\n",
    "        \n",
    "pi_calculated = 4 * M/N #Calculating Pi\n",
    "print('Value of Pi = ', pi_calculated)"
   ]
  },
  {
   "cell_type": "markdown",
   "id": "f2b604ef",
   "metadata": {},
   "source": [
    "Compare it with the true value:"
   ]
  },
  {
   "cell_type": "code",
   "execution_count": 14,
   "id": "fca8ef88",
   "metadata": {
    "ExecuteTime": {
     "end_time": "2024-05-29T09:08:05.069345Z",
     "start_time": "2024-05-29T09:08:05.064046Z"
    }
   },
   "outputs": [
    {
     "name": "stdout",
     "output_type": "stream",
     "text": [
      "percentage Error: -0.1055307538492804\n"
     ]
    }
   ],
   "source": [
    "from scipy.constants import pi #A way of getting value of Pi from scipy package\n",
    "pi_error = (pi - pi_calculated)/pi*100\n",
    "print('percentage Error:', pi_error)"
   ]
  },
  {
   "cell_type": "markdown",
   "id": "1932193e",
   "metadata": {},
   "source": [
    "# Re-doing the same thing with better explannation and organization using Function"
   ]
  },
  {
   "cell_type": "code",
   "execution_count": 15,
   "id": "b0df5ca6",
   "metadata": {
    "ExecuteTime": {
     "end_time": "2024-05-29T09:19:25.972630Z",
     "start_time": "2024-05-29T09:19:25.958135Z"
    }
   },
   "outputs": [],
   "source": [
    "#Constructing the function\n",
    "\n",
    "def coordinate_generator(N):\n",
    "    '''\n",
    "    A function which generates co-ordinates (x, y) in the interval -1 to 1\n",
    "    \n",
    "    input:\n",
    "        N: Number of points to be generated\n",
    "        \n",
    "    returns:\n",
    "        x, y\n",
    "    '''\n",
    "    x = []\n",
    "    y = []\n",
    "\n",
    "    for i in range(N):\n",
    "        x.append(np.random.uniform(-1, 1))\n",
    "        y.append(np.random.uniform(-1,1))\n",
    "    return x, y\n",
    "\n",
    "def distance_formula(x, y):\n",
    "    '''\n",
    "    Calculates the distance of the point from the origin\n",
    "    input:\n",
    "        x, y\n",
    "    returns:\n",
    "        d\n",
    "    '''\n",
    "    d = np.sqrt(x**2 + y**2)\n",
    "    \n",
    "    return d\n",
    "\n",
    "def counter(x, y):\n",
    "    '''\n",
    "    Counts the number of points lying inside the circle\n",
    "    input : \n",
    "        x: an array with N number of points in between -1 to 1\n",
    "        y: an array with N number of points in between -1 to 1\n",
    "        \n",
    "    returns:\n",
    "        M : Number of points inside the circle\n",
    "    '''\n",
    "    \n",
    "    M = 0\n",
    "\n",
    "    for i in range(len(x)):\n",
    "        r = distance_formula(x[i], y[i])\n",
    "        if r<=1:\n",
    "            M +=1\n",
    "            \n",
    "    return M"
   ]
  },
  {
   "cell_type": "code",
   "execution_count": 20,
   "id": "5d7ecbfc",
   "metadata": {
    "ExecuteTime": {
     "end_time": "2024-05-29T09:22:04.766890Z",
     "start_time": "2024-05-29T09:21:59.746302Z"
    }
   },
   "outputs": [
    {
     "name": "stdout",
     "output_type": "stream",
     "text": [
      "3.138844\n"
     ]
    }
   ],
   "source": [
    "#main program\n",
    "\n",
    "N = 1000000 #Number of points generated inside the square\n",
    "x, y = coordinate_generator(N) #calling the function coordinate_generator()\n",
    "M = counter(x, y) #Calling the function counter()\n",
    "\n",
    "pi = 4 * M/N\n",
    "print(pi)"
   ]
  },
  {
   "cell_type": "code",
   "execution_count": null,
   "id": "6af66b4c",
   "metadata": {},
   "outputs": [],
   "source": []
  }
 ],
 "metadata": {
  "author": "me",
  "kernelspec": {
   "display_name": "Python 3 (ipykernel)",
   "language": "python",
   "name": "python3"
  },
  "language_info": {
   "codemirror_mode": {
    "name": "ipython",
    "version": 3
   },
   "file_extension": ".py",
   "mimetype": "text/x-python",
   "name": "python",
   "nbconvert_exporter": "python",
   "pygments_lexer": "ipython3",
   "version": "3.9.7"
  },
  "latex_envs": {
   "LaTeX_envs_menu_present": true,
   "autoclose": false,
   "autocomplete": true,
   "bibliofile": "biblio.bib",
   "cite_by": "apalike",
   "current_citInitial": 1,
   "eqLabelWithNumbers": true,
   "eqNumInitial": 1,
   "hotkeys": {
    "equation": "Ctrl-E",
    "itemize": "Ctrl-I"
   },
   "labels_anchors": false,
   "latex_user_defs": false,
   "report_style_numbering": false,
   "user_envs_cfg": false
  },
  "toc": {
   "base_numbering": 1,
   "nav_menu": {},
   "number_sections": true,
   "sideBar": true,
   "skip_h1_title": false,
   "title_cell": "Table of Contents",
   "title_sidebar": "Contents",
   "toc_cell": false,
   "toc_position": {},
   "toc_section_display": true,
   "toc_window_display": false
  },
  "varInspector": {
   "cols": {
    "lenName": 16,
    "lenType": 16,
    "lenVar": 40
   },
   "kernels_config": {
    "python": {
     "delete_cmd_postfix": "",
     "delete_cmd_prefix": "del ",
     "library": "var_list.py",
     "varRefreshCmd": "print(var_dic_list())"
    },
    "r": {
     "delete_cmd_postfix": ") ",
     "delete_cmd_prefix": "rm(",
     "library": "var_list.r",
     "varRefreshCmd": "cat(var_dic_list()) "
    }
   },
   "types_to_exclude": [
    "module",
    "function",
    "builtin_function_or_method",
    "instance",
    "_Feature"
   ],
   "window_display": false
  }
 },
 "nbformat": 4,
 "nbformat_minor": 5
}
