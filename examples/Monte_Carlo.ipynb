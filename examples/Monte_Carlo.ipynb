{
 "cells": [
  {
   "cell_type": "markdown",
   "id": "b89d54a4",
   "metadata": {},
   "source": [
    "# Monte Carlo Integration in Python"
   ]
  },
  {
   "cell_type": "markdown",
   "id": "5f45e331",
   "metadata": {},
   "source": [
    "Concept:\n",
    "\n",
    "If $ x_i \\in \\left[a,b\\right] $ where $i = 0,1,......n$. Then using Monte carlo method, the integration of the function can be written as:\n",
    "\\begin{equation*}\n",
    "\\int_a^b f(x)dx = \\frac{(b-a)}{N} \\sum_{i = 0}^N f(x_i)\n",
    "\\end{equation*}\n",
    "\n"
   ]
  },
  {
   "cell_type": "markdown",
   "id": "3318b1be",
   "metadata": {},
   "source": [
    "\\begin{example}\n",
    "Find the integration of the function $f(x) = 7x-8.5x^2+3*x^3$ in the limit 0 to 2.\n",
    "\\begin{equation*}\n",
    "\\int_0^2 (7x-8.5x^2+3x^3)dx\n",
    "\\end{equation*}\n",
    "\\end{example}\n"
   ]
  },
  {
   "cell_type": "markdown",
   "id": "42df15fe",
   "metadata": {},
   "source": [
    "Steps/Algorithms:\n",
    "\\begin{enumerate}\n",
    "\\item Define the function.\n",
    "\\item Define the lower, upper limit and number of random numbers you want to generate.\n",
    "\\item Generate required random numbers.\n",
    "\\item Find out the summation.\n",
    "\\item Use formula to to integrate given above.\n",
    "\\end{enumerate}\n"
   ]
  },
  {
   "cell_type": "markdown",
   "id": "b097c2e1",
   "metadata": {},
   "source": [
    "Step 0: Importing the required python packages:"
   ]
  },
  {
   "cell_type": "code",
   "execution_count": 3,
   "id": "93b7785d",
   "metadata": {},
   "outputs": [],
   "source": [
    "import numpy as np"
   ]
  },
  {
   "cell_type": "markdown",
   "id": "27abddad",
   "metadata": {},
   "source": [
    "Step 1: Define the function."
   ]
  },
  {
   "cell_type": "code",
   "execution_count": 4,
   "id": "13cc5ca4",
   "metadata": {},
   "outputs": [],
   "source": [
    "def f(x):\n",
    "    return 7*x - 8.5*x**2+3*x**3"
   ]
  },
  {
   "cell_type": "markdown",
   "id": "e36c85e7",
   "metadata": {},
   "source": [
    "Step 2: Defining the limits of integration and N"
   ]
  },
  {
   "cell_type": "code",
   "execution_count": 22,
   "id": "151018bc",
   "metadata": {},
   "outputs": [
    {
     "name": "stdout",
     "output_type": "stream",
     "text": [
      "Please input the lower limit 0\n",
      "Please input the upper limit 2\n",
      "Please input the Total number of points you want to divide1000000\n"
     ]
    }
   ],
   "source": [
    "a = int(input(\"Please input the lower limit \"))\n",
    "b = int(input(\"Please input the upper limit \"))\n",
    "N = int(input(\"Please input the Total number of points you want to divide\"))"
   ]
  },
  {
   "cell_type": "markdown",
   "id": "b695840b",
   "metadata": {},
   "source": [
    "Step 3: Generate required random numbers."
   ]
  },
  {
   "cell_type": "code",
   "execution_count": 23,
   "id": "b1c1a631",
   "metadata": {},
   "outputs": [],
   "source": [
    "x = []\n",
    "for i in range(N):\n",
    "    x.append(np.random.uniform(a,b))"
   ]
  },
  {
   "cell_type": "markdown",
   "id": "c1e02065",
   "metadata": {},
   "source": [
    "Step 4: Finding out the summation."
   ]
  },
  {
   "cell_type": "code",
   "execution_count": 24,
   "id": "78909647",
   "metadata": {},
   "outputs": [],
   "source": [
    "summ = 0\n",
    "for k in x:\n",
    "    summ = summ + f(k)\n"
   ]
  },
  {
   "cell_type": "markdown",
   "id": "1f8f0dd6",
   "metadata": {},
   "source": [
    "Step 5: Finding the integration."
   ]
  },
  {
   "cell_type": "code",
   "execution_count": 9,
   "id": "8cd56379",
   "metadata": {},
   "outputs": [
    {
     "name": "stdout",
     "output_type": "stream",
     "text": [
      "The integrated value using Monte Carlo method in python is:  3.566828900276295\n",
      "The percentage error in the calculation is:  7.111978987276123 %\n"
     ]
    }
   ],
   "source": [
    "integrated_value = (b-a)/N * summ\n",
    "print(\"The integrated value using Monte Carlo method in python is: \",integrated_value)\n",
    "error = abs(3.33-integrated_value)/3.33*100\n",
    "print(\"The percentage error in the calculation is: \",error, '%')"
   ]
  },
  {
   "cell_type": "code",
   "execution_count": 13,
   "id": "da7d3ae9",
   "metadata": {},
   "outputs": [
    {
     "name": "stdout",
     "output_type": "stream",
     "text": [
      "The integrated value using Monte Carlo method in python is:  3.1172148189905435\n",
      "The percentage error in the calculation is:  6.389945375659354 %\n"
     ]
    }
   ],
   "source": [
    "integrated_value = (b-a)/N * summ\n",
    "print(\"The integrated value using Monte Carlo method in python is: \",integrated_value)\n",
    "error = abs(3.33-integrated_value)/3.33*100\n",
    "print(\"The percentage error in the calculation is: \",error, '%')"
   ]
  },
  {
   "cell_type": "code",
   "execution_count": 17,
   "id": "967ef7da",
   "metadata": {},
   "outputs": [
    {
     "name": "stdout",
     "output_type": "stream",
     "text": [
      "The integrated value using Monte Carlo method in python is:  3.3327578908254942\n",
      "The percentage error in the calculation is:  0.08281954430913388 %\n"
     ]
    }
   ],
   "source": [
    "integrated_value = (b-a)/N * summ\n",
    "print(\"The integrated value using Monte Carlo method in python is: \",integrated_value)\n",
    "error = abs(3.33-integrated_value)/3.33*100\n",
    "print(\"The percentage error in the calculation is: \",error, '%')"
   ]
  },
  {
   "cell_type": "code",
   "execution_count": 21,
   "id": "b6f6d86f",
   "metadata": {},
   "outputs": [
    {
     "name": "stdout",
     "output_type": "stream",
     "text": [
      "The integrated value using Monte Carlo method in python is:  3.3300050707116875\n",
      "The percentage error in the calculation is:  0.0001522736242470607 %\n"
     ]
    }
   ],
   "source": [
    "integrated_value = (b-a)/N * summ\n",
    "print(\"The integrated value using Monte Carlo method in python is: \",integrated_value)\n",
    "error = abs(3.33-integrated_value)/3.33*100\n",
    "print(\"The percentage error in the calculation is: \",error, '%')"
   ]
  },
  {
   "cell_type": "code",
   "execution_count": 25,
   "id": "2cd17a68",
   "metadata": {},
   "outputs": [
    {
     "name": "stdout",
     "output_type": "stream",
     "text": [
      "The integrated value using Monte Carlo method in python is:  3.333667658774905\n",
      "The percentage error in the calculation is:  0.11013990315029837 %\n"
     ]
    }
   ],
   "source": [
    "integrated_value = (b-a)/N * summ\n",
    "print(\"The integrated value using Monte Carlo method in python is: \",integrated_value)\n",
    "error = abs(3.33-integrated_value)/3.33*100\n",
    "print(\"The percentage error in the calculation is: \",error, '%')"
   ]
  },
  {
   "cell_type": "code",
   "execution_count": null,
   "id": "39fd1e15",
   "metadata": {},
   "outputs": [],
   "source": []
  }
 ],
 "metadata": {
  "kernelspec": {
   "display_name": "Python 3 (ipykernel)",
   "language": "python",
   "name": "python3"
  },
  "language_info": {
   "codemirror_mode": {
    "name": "ipython",
    "version": 3
   },
   "file_extension": ".py",
   "mimetype": "text/x-python",
   "name": "python",
   "nbconvert_exporter": "python",
   "pygments_lexer": "ipython3",
   "version": "3.9.7"
  },
  "latex_envs": {
   "LaTeX_envs_menu_present": true,
   "autoclose": false,
   "autocomplete": true,
   "bibliofile": "biblio.bib",
   "cite_by": "apalike",
   "current_citInitial": 1,
   "eqLabelWithNumbers": true,
   "eqNumInitial": 1,
   "hotkeys": {
    "equation": "Ctrl-E",
    "itemize": "Ctrl-I"
   },
   "labels_anchors": false,
   "latex_user_defs": false,
   "report_style_numbering": false,
   "user_envs_cfg": false
  },
  "toc": {
   "base_numbering": 1,
   "nav_menu": {},
   "number_sections": true,
   "sideBar": true,
   "skip_h1_title": false,
   "title_cell": "Table of Contents",
   "title_sidebar": "Contents",
   "toc_cell": false,
   "toc_position": {},
   "toc_section_display": true,
   "toc_window_display": false
  }
 },
 "nbformat": 4,
 "nbformat_minor": 5
}
