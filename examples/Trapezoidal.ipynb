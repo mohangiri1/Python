{
 "cells": [
  {
   "cell_type": "markdown",
   "id": "0b5ba651",
   "metadata": {},
   "source": [
    "# Numerical Integration using Trapezoidal Rule in Python"
   ]
  },
  {
   "cell_type": "markdown",
   "id": "6aa3e746",
   "metadata": {},
   "source": [
    "Theory:"
   ]
  },
  {
   "cell_type": "markdown",
   "id": "b6a27d47",
   "metadata": {},
   "source": [
    "<img src=\"image_trapezoidal.png\" />\n",
    "\\begin{equation*}\n",
    "\\int_a^b f(x) dx = \\frac{\\Delta x}{2}\\left[f(x_0) + 2 f(x_1) + 2f(x_2) + 2 f(x_3) + ..........+2f(x_{n-1}) + f(x_n) \\right]\n",
    "\\end{equation*}\n",
    "\n",
    "Simplifying:\n",
    "\\begin{equation*}\n",
    "= \\frac{\\Delta x}{2}\\left[f(x_0) + f(x_n) \\right] + \\Delta x \\left[ f(x_1) + f(x_2) +  f(x_3) + ..........+f(x_{n-1}) \\right]\n",
    "\\end{equation*}\n",
    "\\begin{equation*}\n",
    "= \\frac{\\Delta x}{2}\\left[f(x_0) + f(x_n) \\right] + \\Delta x\\sum_{i=1}^{n-1} f(x_i)\n",
    "\\end{equation*}\n",
    "Where,\n",
    "$x_i = a + i * \\Delta x$\n"
   ]
  },
  {
   "cell_type": "code",
   "execution_count": null,
   "id": "48dbebba",
   "metadata": {},
   "outputs": [],
   "source": []
  },
  {
   "cell_type": "markdown",
   "id": "66fbe88c",
   "metadata": {},
   "source": [
    "\\begin{example}\n",
    "Use the trapezoidal rule with n = 6 to approximate:\n",
    "\\begin{equation*}\n",
    "\\int_0^\\pi sin^2x dx\n",
    "\\end{equation*}\n",
    "\\end{example}\n"
   ]
  },
  {
   "cell_type": "markdown",
   "id": "8b6efbbe",
   "metadata": {},
   "source": [
    "Importing Required Packages:"
   ]
  },
  {
   "cell_type": "code",
   "execution_count": 1,
   "id": "d375d48d",
   "metadata": {},
   "outputs": [],
   "source": [
    "import numpy as np"
   ]
  },
  {
   "cell_type": "markdown",
   "id": "92618d06",
   "metadata": {},
   "source": [
    "Defining Function:\n",
    "\\begin{equation*}\n",
    "f(x) = sin^2(x)\n",
    "\\end{equation*}\n"
   ]
  },
  {
   "cell_type": "code",
   "execution_count": 3,
   "id": "b20c8ccf",
   "metadata": {},
   "outputs": [],
   "source": [
    "def f(x):\n",
    "    return (np.sin(x))**2"
   ]
  },
  {
   "cell_type": "markdown",
   "id": "9815eec0",
   "metadata": {},
   "source": [
    "Defining the limits, number of interval and interval width:\n",
    "\\begin{equation*}\n",
    "a = 0\n",
    "\\end{equation*}\n",
    "\\begin{equation*}\n",
    "b = \\pi\n",
    "\\end{equation*}\n",
    "\\begin{equation*}\n",
    "n = 6\n",
    "\\end{equation*}\n",
    "\\begin{equation*}\n",
    "\\Delta x = \\frac{b-a}{n}\n",
    "\\end{equation*}\n"
   ]
  },
  {
   "cell_type": "code",
   "execution_count": 4,
   "id": "6cf325a5",
   "metadata": {},
   "outputs": [],
   "source": [
    "a = 0\n",
    "b = np.pi\n",
    "n = 6\n",
    "del_x = (b-a)/n"
   ]
  },
  {
   "cell_type": "markdown",
   "id": "73b1441b",
   "metadata": {},
   "source": [
    "Finding the summation using for loop and getting the integration value:"
   ]
  },
  {
   "cell_type": "code",
   "execution_count": 5,
   "id": "93ca6b99",
   "metadata": {},
   "outputs": [
    {
     "name": "stdout",
     "output_type": "stream",
     "text": [
      "The integrated value using Trapezoidal rule in python is:  1.5707963267948966\n"
     ]
    }
   ],
   "source": [
    "summation = 0\n",
    "for i in range(1,n):\n",
    "    summation = summation + del_x* f(a + i*del_x)\n",
    "integrated_value = del_x/2 * (f(a)+f(b)) + summation\n",
    "print(\"The integrated value using Trapezoidal rule in python is: \",integrated_value)"
   ]
  },
  {
   "cell_type": "markdown",
   "id": "2a0b6a5c",
   "metadata": {},
   "source": [
    "Getting the error estimates:"
   ]
  },
  {
   "cell_type": "code",
   "execution_count": 6,
   "id": "b442d1cb",
   "metadata": {},
   "outputs": [
    {
     "name": "stdout",
     "output_type": "stream",
     "text": [
      "The percentage error of the calculation is:  0.0\n"
     ]
    }
   ],
   "source": [
    "actual_value = np.pi/2\n",
    "percentage_error = abs(actual_value-integrated_value)/actual_value*100\n",
    "print('The percentage error of the calculation is: ',percentage_error)"
   ]
  },
  {
   "cell_type": "markdown",
   "id": "321d11aa",
   "metadata": {},
   "source": [
    "\\begin{problem}\n",
    "Approximate the area under the curve\n",
    "\\begin{equation*}\n",
    "y = \\frac{1}{x}\n",
    "\\end{equation*}\n",
    "between x = 1 and x = 5 using Trapezoidal rule with n = 4.\n",
    "\\end{problem}\n"
   ]
  },
  {
   "cell_type": "markdown",
   "id": "3e395b31",
   "metadata": {},
   "source": [
    "Reference:\n",
    "https://math24.net/trapezoidal-rule.html#example1"
   ]
  }
 ],
 "metadata": {
  "kernelspec": {
   "display_name": "Python 3 (ipykernel)",
   "language": "python",
   "name": "python3"
  },
  "language_info": {
   "codemirror_mode": {
    "name": "ipython",
    "version": 3
   },
   "file_extension": ".py",
   "mimetype": "text/x-python",
   "name": "python",
   "nbconvert_exporter": "python",
   "pygments_lexer": "ipython3",
   "version": "3.9.7"
  },
  "latex_envs": {
   "LaTeX_envs_menu_present": true,
   "autoclose": false,
   "autocomplete": true,
   "bibliofile": "biblio.bib",
   "cite_by": "apalike",
   "current_citInitial": 1,
   "eqLabelWithNumbers": true,
   "eqNumInitial": 1,
   "hotkeys": {
    "equation": "Ctrl-E",
    "itemize": "Ctrl-I"
   },
   "labels_anchors": false,
   "latex_user_defs": false,
   "report_style_numbering": false,
   "user_envs_cfg": false
  },
  "toc": {
   "base_numbering": 1,
   "nav_menu": {},
   "number_sections": true,
   "sideBar": true,
   "skip_h1_title": false,
   "title_cell": "Table of Contents",
   "title_sidebar": "Contents",
   "toc_cell": false,
   "toc_position": {},
   "toc_section_display": true,
   "toc_window_display": false
  }
 },
 "nbformat": 4,
 "nbformat_minor": 5
}
