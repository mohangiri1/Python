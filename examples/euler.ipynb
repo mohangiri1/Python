{
 "cells": [
  {
   "cell_type": "markdown",
   "id": "79a666b3",
   "metadata": {},
   "source": [
    "# Euler's Method: Solution of differential Equation "
   ]
  },
  {
   "cell_type": "markdown",
   "id": "e770b67e",
   "metadata": {},
   "source": [
    "If \n",
    "\\begin{equation*}\n",
    "y' = f(x,y) \n",
    "\\end{equation*}\n",
    "is a first order differential equation with respect to x, with the boundary condition $y_0$ and $x_0$,\n",
    "\n",
    "\\begin{equation*}\n",
    "y_n = y_{n-1} + h \\times f(x_{n-1}, y_{n-1})\n",
    "\\end{equation*}\n",
    "\n",
    "Here, n+1 is the number of divisions we want to construct in the x $[x_0, x_n]$.\n",
    "\n",
    "$n = \\frac{(x_{end} - x_0)}{h}$\n",
    "\n",
    "\\textbf{Question:} Use Euler's method to solve a differential equation\n",
    "\n",
    "\\begin{equation*}\n",
    "f(x,y) = x + 2y\n",
    "\\end{equation*}\n",
    "\n",
    "where $y(0) = 0 $. Use h = 0.25 as the step size. As an example, display the solution for x = [0,5] in the plot.\n",
    "\n",
    "\n",
    "\\textbf{Algorithm:} \n",
    "\n",
    "1. import packages\n",
    "2. define the differential equation function.\n",
    "3. Write a function for the euler's solution.\n",
    "4. write a function for the plot.\n",
    "5. Execute the above written functions after calling them in the actual program."
   ]
  },
  {
   "cell_type": "markdown",
   "id": "eabb484f",
   "metadata": {},
   "source": [
    "Step 1:\n",
    "import the necessary packages:"
   ]
  },
  {
   "cell_type": "code",
   "execution_count": 27,
   "id": "7b81ddd1",
   "metadata": {
    "ExecuteTime": {
     "end_time": "2024-06-03T04:06:11.192185Z",
     "start_time": "2024-06-03T04:06:11.187695Z"
    }
   },
   "outputs": [],
   "source": [
    "import matplotlib.pyplot as plt"
   ]
  },
  {
   "cell_type": "markdown",
   "id": "8b75f5cc",
   "metadata": {},
   "source": [
    "Step 2: Define the differential equation function."
   ]
  },
  {
   "cell_type": "code",
   "execution_count": 28,
   "id": "ab16a321",
   "metadata": {
    "ExecuteTime": {
     "end_time": "2024-06-03T04:07:49.239573Z",
     "start_time": "2024-06-03T04:07:49.233080Z"
    }
   },
   "outputs": [],
   "source": [
    "def f(x, y):\n",
    "    '''\n",
    "    Is a differential equation\n",
    "    input:\n",
    "        x: an independent variable\n",
    "        y: Dependent variable\n",
    "    returns:\n",
    "        y'\n",
    "    '''\n",
    "    return x + 2 * y"
   ]
  },
  {
   "cell_type": "markdown",
   "id": "5a91ffde",
   "metadata": {},
   "source": [
    "Step 3: Write a function for the euler's solution."
   ]
  },
  {
   "cell_type": "code",
   "execution_count": 31,
   "id": "0e5b31a0",
   "metadata": {
    "ExecuteTime": {
     "end_time": "2024-06-03T04:22:07.717153Z",
     "start_time": "2024-06-03T04:22:07.709710Z"
    }
   },
   "outputs": [],
   "source": [
    " def euler(f, x_0, y_0, x_g, h):\n",
    "        '''\n",
    "        Solves the first order differential equation using Euler's Method\n",
    "        input:\n",
    "            f : f(x, y) which is simply y'\n",
    "            x_0: initial value of x\n",
    "            y_0: initial value of y\n",
    "            x_g: end point value of x, x at which solution is to be found out.\n",
    "            h: step size\n",
    "        returns:\n",
    "            xs: an array of x values in interval [x_0, x_g]\n",
    "            ys: an array of y values corresponding to x at the given interval.\n",
    "        '''\n",
    "        \n",
    "        n = int((x_g - x_0)/h + 0.5) # find the nearest integer\n",
    "        \n",
    "        xs = []\n",
    "        ys = []\n",
    "        \n",
    "        x = x_0\n",
    "        y = y_0\n",
    "        \n",
    "        for _ in range(n):\n",
    "            x = x + h\n",
    "            y = y + h* f(x, y)\n",
    "            xs.append(x)\n",
    "            ys.append(y)\n",
    "            \n",
    "        return xs, ys\n"
   ]
  },
  {
   "cell_type": "markdown",
   "id": "e633a741",
   "metadata": {},
   "source": [
    "Step 4: Write a function for the plot."
   ]
  },
  {
   "cell_type": "code",
   "execution_count": 32,
   "id": "1e64e8d0",
   "metadata": {
    "ExecuteTime": {
     "end_time": "2024-06-03T04:22:12.904982Z",
     "start_time": "2024-06-03T04:22:12.898939Z"
    }
   },
   "outputs": [],
   "source": [
    "def plot_euler(x, y):\n",
    "    '''\n",
    "    Plots the solution of the differential equation at individual points.\n",
    "    '''\n",
    "    plt.figure()\n",
    "    plt.plot(x, y, 'o--')\n",
    "    plt.xlabel('X values')\n",
    "    plt.ylabel('Y values')\n",
    "    plt.show()"
   ]
  },
  {
   "cell_type": "markdown",
   "id": "2af7228d",
   "metadata": {},
   "source": [
    "Step 5: Execute the above written functions after calling them in the actual program."
   ]
  },
  {
   "cell_type": "code",
   "execution_count": 34,
   "id": "490f4939",
   "metadata": {
    "ExecuteTime": {
     "end_time": "2024-06-03T04:26:32.438655Z",
     "start_time": "2024-06-03T04:26:32.349751Z"
    }
   },
   "outputs": [
    {
     "data": {
      "image/png": "[encoded data removed]",
      "text/plain": [
       "<Figure size 432x288 with 1 Axes>"
      ]
     },
     "metadata": {
      "needs_background": "light"
     },
     "output_type": "display_data"
    },
    {
     "name": "stdout",
     "output_type": "stream",
     "text": [
      "solution at x = 5.0 is 1244.096273779869\n"
     ]
    }
   ],
   "source": [
    "x_0 = 0\n",
    "y_0 = 0\n",
    "h = 0.25\n",
    "x_g = 5\n",
    "\n",
    "x, y = euler(f, x_0, y_0, x_g, h)\n",
    "plot_euler(x, y)\n",
    "\n",
    "print(f'solution at x = {x[-1]} is {y[-1]}')"
   ]
  },
  {
   "cell_type": "code",
   "execution_count": 35,
   "id": "99b9d002",
   "metadata": {
    "ExecuteTime": {
     "end_time": "2024-06-03T04:27:10.504032Z",
     "start_time": "2024-06-03T04:27:10.396092Z"
    }
   },
   "outputs": [
    {
     "data": {
      "image/png": "[encoded data removed]",
      "text/plain": [
       "<Figure size 432x288 with 1 Axes>"
      ]
     },
     "metadata": {
      "needs_background": "light"
     },
     "output_type": "display_data"
    },
    {
     "name": "stdout",
     "output_type": "stream",
     "text": [
      "solution at x = 2.0 is 8.23583984375\n"
     ]
    }
   ],
   "source": [
    "x_0 = 0\n",
    "y_0 = 0\n",
    "h = 0.25\n",
    "x_g = 2\n",
    "\n",
    "x, y = euler(f, x_0, y_0, x_g, h)\n",
    "plot_euler(x, y)\n",
    "\n",
    "print(f'solution at x = {x[-1]} is {y[-1]}')"
   ]
  },
  {
   "cell_type": "code",
   "execution_count": 36,
   "id": "671a92fb",
   "metadata": {
    "ExecuteTime": {
     "end_time": "2024-06-03T04:28:16.517045Z",
     "start_time": "2024-06-03T04:28:16.513157Z"
    }
   },
   "outputs": [],
   "source": [
    "def g(x, y):\n",
    "    return x + y"
   ]
  },
  {
   "cell_type": "code",
   "execution_count": 38,
   "id": "db07bbd1",
   "metadata": {
    "ExecuteTime": {
     "end_time": "2024-06-03T04:28:49.538520Z",
     "start_time": "2024-06-03T04:28:49.301923Z"
    }
   },
   "outputs": [
    {
     "data": {
      "image/png": "[encoded data removed]",
      "text/plain": [
       "<Figure size 432x288 with 1 Axes>"
      ]
     },
     "metadata": {
      "needs_background": "light"
     },
     "output_type": "display_data"
    },
    {
     "name": "stdout",
     "output_type": "stream",
     "text": [
      "solution at x = 2.0 is 4.200580596923828\n"
     ]
    }
   ],
   "source": [
    "x_0 = 0\n",
    "y_0 = 0\n",
    "h = 0.25\n",
    "x_g = 2\n",
    "\n",
    "x, y = euler(g, x_0, y_0, x_g, h)\n",
    "plot_euler(x, y)\n",
    "print(f'solution at x = {x[-1]} is {y[-1]}')"
   ]
  },
  {
   "cell_type": "code",
   "execution_count": null,
   "id": "b8dc9546",
   "metadata": {},
   "outputs": [],
   "source": []
  }
 ],
 "metadata": {
  "author": "",
  "kernelspec": {
   "display_name": "Python 3 (ipykernel)",
   "language": "python",
   "name": "python3"
  },
  "language_info": {
   "codemirror_mode": {
    "name": "ipython",
    "version": 3
   },
   "file_extension": ".py",
   "mimetype": "text/x-python",
   "name": "python",
   "nbconvert_exporter": "python",
   "pygments_lexer": "ipython3",
   "version": "3.9.7"
  },
  "latex_envs": {
   "LaTeX_envs_menu_present": true,
   "autoclose": false,
   "autocomplete": true,
   "bibliofile": "biblio.bib",
   "cite_by": "apalike",
   "current_citInitial": 1,
   "eqLabelWithNumbers": true,
   "eqNumInitial": 1,
   "hotkeys": {
    "equation": "Ctrl-E",
    "itemize": "Ctrl-I"
   },
   "labels_anchors": false,
   "latex_user_defs": false,
   "report_style_numbering": false,
   "user_envs_cfg": false
  },
  "toc": {
   "base_numbering": 1,
   "nav_menu": {},
   "number_sections": true,
   "sideBar": true,
   "skip_h1_title": false,
   "title_cell": "Table of Contents",
   "title_sidebar": "Contents",
   "toc_cell": false,
   "toc_position": {},
   "toc_section_display": true,
   "toc_window_display": false
  },
  "varInspector": {
   "cols": {
    "lenName": 16,
    "lenType": 16,
    "lenVar": 40
   },
   "kernels_config": {
    "python": {
     "delete_cmd_postfix": "",
     "delete_cmd_prefix": "del ",
     "library": "var_list.py",
     "varRefreshCmd": "print(var_dic_list())"
    },
    "r": {
     "delete_cmd_postfix": ") ",
     "delete_cmd_prefix": "rm(",
     "library": "var_list.r",
     "varRefreshCmd": "cat(var_dic_list()) "
    }
   },
   "types_to_exclude": [
    "module",
    "function",
    "builtin_function_or_method",
    "instance",
    "_Feature"
   ],
   "window_display": false
  }
 },
 "nbformat": 4,
 "nbformat_minor": 5
}
